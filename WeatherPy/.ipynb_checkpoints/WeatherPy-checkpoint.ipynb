{
 "cells": [
  {
   "cell_type": "markdown",
   "metadata": {},
   "source": [
    "# WeatherPy\n",
    "----\n",
    "\n",
    "#### Note\n",
    "* Instructions have been included for each segment. You do not have to follow them exactly, but they are included to help you think through the steps."
   ]
  },
  {
   "cell_type": "code",
   "execution_count": 1,
   "metadata": {},
   "outputs": [
    {
     "name": "stdout",
     "output_type": "stream",
     "text": [
      "Requirement already satisfied: citipy in /Users/Akire/opt/anaconda3/lib/python3.7/site-packages (0.0.5)\n",
      "Requirement already satisfied: kdtree>=0.12 in /Users/Akire/opt/anaconda3/lib/python3.7/site-packages (from citipy) (0.16)\n",
      "Note: you may need to restart the kernel to use updated packages.\n"
     ]
    }
   ],
   "source": [
    "pip install citipy"
   ]
  },
  {
   "cell_type": "code",
   "execution_count": 2,
   "metadata": {
    "scrolled": true
   },
   "outputs": [],
   "source": [
    "# Dependencies and Setup\n",
    "import matplotlib.pyplot as plt\n",
    "import pandas as pd\n",
    "import numpy as np\n",
    "import requests\n",
    "import time\n",
    "from scipy.stats import linregress\n",
    "\n",
    "# Import API key\n",
    "from api_keys import weather_api_key\n",
    "\n",
    "# Incorporated citipy to determine city based on latitude and longitude\n",
    "from citipy import citipy\n",
    "\n",
    "# Output File (CSV)\n",
    "output_data_file = \"output_data/cities.csv\"\n",
    "\n",
    "# Range of latitudes and longitudes\n",
    "lat_range = (-90, 90)\n",
    "lng_range = (-180, 180)"
   ]
  },
  {
   "cell_type": "markdown",
   "metadata": {},
   "source": [
    "## Generate Cities List"
   ]
  },
  {
   "cell_type": "code",
   "execution_count": 3,
   "metadata": {},
   "outputs": [
    {
     "data": {
      "text/plain": [
       "624"
      ]
     },
     "execution_count": 3,
     "metadata": {},
     "output_type": "execute_result"
    }
   ],
   "source": [
    "# List for holding lat_lngs and cities\n",
    "lat_lngs = []\n",
    "cities = []\n",
    "\n",
    "# Create a set of random lat and lng combinations -first set to 20 and final should be at 1500\n",
    "lats = np.random.uniform(low=-90.000, high=90.000, size=1500)\n",
    "lngs = np.random.uniform(low=-180.000, high=180.000, size=1500)\n",
    "lat_lngs = zip(lats, lngs)\n",
    "\n",
    "# Identify nearest city for each lat, lng combination\n",
    "for lat_lng in lat_lngs:\n",
    "    city = citipy.nearest_city(lat_lng[0], lat_lng[1]).city_name\n",
    "    \n",
    "    # If the city is unique, then add it to a our cities list\n",
    "    if city not in cities:\n",
    "        cities.append(city)\n",
    "\n",
    "# Print the city count to confirm sufficient count\n",
    "len(cities)"
   ]
  },
  {
   "cell_type": "markdown",
   "metadata": {},
   "source": [
    "### Perform API Calls\n",
    "* Perform a weather check on each city using a series of successive API calls.\n",
    "* Include a print log of each city as it'sbeing processed (with the city number and city name).\n"
   ]
  },
  {
   "cell_type": "code",
   "execution_count": 4,
   "metadata": {},
   "outputs": [
    {
     "name": "stdout",
     "output_type": "stream",
     "text": [
      "http://api.openweathermap.org/data/2.5/weather?appid=7c625f2206cc5f83d171aa76af511676&units=imperial&q=\n"
     ]
    }
   ],
   "source": [
    "#Define the URL\n",
    "units= \"imperial\"\n",
    "query_url = f\"http://api.openweathermap.org/data/2.5/weather?appid={weather_api_key}&units={units}&q=\"\n",
    "\n",
    "# define count of pass throughs\n",
    "counter = 0\n",
    "set_term = 1\n",
    "\n",
    "print(query_url)"
   ]
  },
  {
   "cell_type": "code",
   "execution_count": 5,
   "metadata": {},
   "outputs": [
    {
     "name": "stdout",
     "output_type": "stream",
     "text": [
      "Processing Record 1 of Set 1 | mataura\n",
      "Processing Record 2 of Set 1 | cuxhaven\n",
      "Processing Record 3 of Set 1 | sao joao da barra\n",
      "Processing Record 4 of Set 1 | punta arenas\n",
      "Processing Record 5 of Set 1 | alice springs\n",
      "Processing Record 6 of Set 1 | albany\n",
      "Processing Record 7 of Set 1 | bethel\n",
      "Processing Record 8 of Set 1 | saskylakh\n",
      "Processing Record 9 of Set 1 | lebu\n",
      "Processing Record 10 of Set 1 | touros\n",
      "Processing Record 11 of Set 1 | busselton\n",
      "Processing Record 12 of Set 1 | kodiak\n",
      "Processing Record 13 of Set 1 | hohhot\n",
      "Processing Record 14 of Set 1 | kaeo\n",
      "Processing Record 15 of Set 1 | butaritari\n",
      "City not found. Skipping...\n",
      "Processing Record 16 of Set 1 | ushuaia\n",
      "Processing Record 17 of Set 1 | cabatuan\n",
      "Processing Record 18 of Set 1 | kedougou\n",
      "Processing Record 19 of Set 1 | tuktoyaktuk\n",
      "Processing Record 20 of Set 1 | verin\n",
      "Processing Record 21 of Set 1 | midland\n",
      "Processing Record 22 of Set 1 | narsaq\n",
      "Processing Record 23 of Set 1 | dikson\n",
      "Processing Record 24 of Set 1 | ternate\n",
      "City not found. Skipping...\n",
      "Processing Record 25 of Set 1 | rikitea\n",
      "Processing Record 26 of Set 1 | san patricio\n",
      "Processing Record 27 of Set 1 | medicine hat\n",
      "Processing Record 28 of Set 1 | souillac\n",
      "Processing Record 29 of Set 1 | atambua\n",
      "Processing Record 30 of Set 1 | bambous virieux\n",
      "Processing Record 31 of Set 1 | turukhansk\n",
      "Processing Record 32 of Set 1 | bubaque\n",
      "Processing Record 33 of Set 1 | namibe\n",
      "Processing Record 34 of Set 1 | jamestown\n",
      "Processing Record 35 of Set 1 | hermanus\n",
      "Processing Record 36 of Set 1 | hobart\n",
      "Processing Record 37 of Set 1 | henties bay\n",
      "Processing Record 38 of Set 1 | castro\n",
      "Processing Record 39 of Set 1 | new norfolk\n",
      "City not found. Skipping...\n",
      "Processing Record 40 of Set 1 | yellowknife\n",
      "Processing Record 41 of Set 1 | pevek\n",
      "Processing Record 42 of Set 1 | bluff\n",
      "Processing Record 43 of Set 1 | poum\n",
      "Processing Record 44 of Set 1 | galle\n",
      "City not found. Skipping...\n",
      "Processing Record 45 of Set 1 | zaysan\n",
      "Processing Record 46 of Set 1 | qaanaaq\n",
      "Processing Record 47 of Set 1 | dukat\n",
      "Processing Record 48 of Set 1 | uhlove\n",
      "Processing Record 49 of Set 1 | clyde river\n",
      "City not found. Skipping...\n",
      "Processing Record 1 of Set 2 | north battleford\n",
      "Processing Record 2 of Set 2 | iquitos\n",
      "Processing Record 3 of Set 2 | port alfred\n",
      "Processing Record 4 of Set 2 | kahului\n",
      "Processing Record 5 of Set 2 | airai\n",
      "Processing Record 6 of Set 2 | thompson\n",
      "Processing Record 7 of Set 2 | aykhal\n",
      "Processing Record 8 of Set 2 | cherskiy\n",
      "Processing Record 9 of Set 2 | srandakan\n",
      "Processing Record 10 of Set 2 | aguimes\n",
      "Processing Record 11 of Set 2 | oranjestad\n",
      "Processing Record 12 of Set 2 | hualmay\n",
      "City not found. Skipping...\n",
      "Processing Record 13 of Set 2 | bredasdorp\n",
      "City not found. Skipping...\n",
      "Processing Record 14 of Set 2 | avarua\n",
      "Processing Record 15 of Set 2 | bon air\n",
      "Processing Record 16 of Set 2 | koltubanovskiy\n",
      "Processing Record 17 of Set 2 | helong\n",
      "Processing Record 18 of Set 2 | comodoro rivadavia\n",
      "Processing Record 19 of Set 2 | bozoum\n",
      "Processing Record 20 of Set 2 | moose factory\n",
      "Processing Record 21 of Set 2 | sungairaya\n",
      "Processing Record 22 of Set 2 | nemuro\n",
      "Processing Record 23 of Set 2 | marystown\n",
      "Processing Record 24 of Set 2 | hilo\n",
      "Processing Record 25 of Set 2 | cidreira\n",
      "Processing Record 26 of Set 2 | atuona\n",
      "Processing Record 27 of Set 2 | kununurra\n",
      "Processing Record 28 of Set 2 | boende\n",
      "Processing Record 29 of Set 2 | khatanga\n",
      "Processing Record 30 of Set 2 | constitucion\n",
      "Processing Record 31 of Set 2 | hambantota\n",
      "Processing Record 32 of Set 2 | tambura\n",
      "Processing Record 33 of Set 2 | mount isa\n",
      "Processing Record 34 of Set 2 | isangel\n",
      "Processing Record 35 of Set 2 | salinas\n",
      "Processing Record 36 of Set 2 | hasaki\n",
      "Processing Record 37 of Set 2 | byron bay\n",
      "Processing Record 38 of Set 2 | iwo\n",
      "Processing Record 39 of Set 2 | arraial do cabo\n",
      "Processing Record 40 of Set 2 | bathsheba\n",
      "Processing Record 41 of Set 2 | gazojak\n",
      "Processing Record 42 of Set 2 | ola\n",
      "Processing Record 43 of Set 2 | havoysund\n",
      "Processing Record 44 of Set 2 | sharjah\n",
      "Processing Record 45 of Set 2 | lakeside\n",
      "Processing Record 46 of Set 2 | kars\n",
      "Processing Record 47 of Set 2 | mar del plata\n",
      "City not found. Skipping...\n",
      "Processing Record 48 of Set 2 | laguna\n",
      "Processing Record 49 of Set 2 | san policarpo\n",
      "Processing Record 1 of Set 3 | iqaluit\n",
      "City not found. Skipping...\n",
      "Processing Record 2 of Set 3 | thunder bay\n",
      "Processing Record 3 of Set 3 | troitsko-pechorsk\n",
      "Processing Record 4 of Set 3 | kruisfontein\n",
      "Processing Record 5 of Set 3 | belmonte\n",
      "Processing Record 6 of Set 3 | quatre cocos\n",
      "Processing Record 7 of Set 3 | tiksi\n",
      "Processing Record 8 of Set 3 | vols\n",
      "Processing Record 9 of Set 3 | puerto ayora\n",
      "Processing Record 10 of Set 3 | biak\n",
      "Processing Record 11 of Set 3 | cockburn town\n",
      "Processing Record 12 of Set 3 | guadalupe y calvo\n",
      "Processing Record 13 of Set 3 | boda\n",
      "Processing Record 14 of Set 3 | namatanai\n",
      "Processing Record 15 of Set 3 | nishihara\n",
      "Processing Record 16 of Set 3 | ribeira grande\n",
      "Processing Record 17 of Set 3 | itambacuri\n",
      "Processing Record 18 of Set 3 | port elizabeth\n",
      "Processing Record 19 of Set 3 | san felipe\n",
      "City not found. Skipping...\n",
      "Processing Record 20 of Set 3 | miyang\n",
      "City not found. Skipping...\n",
      "Processing Record 21 of Set 3 | grindavik\n",
      "City not found. Skipping...\n",
      "Processing Record 22 of Set 3 | gat\n",
      "Processing Record 23 of Set 3 | longyearbyen\n",
      "Processing Record 24 of Set 3 | ponta do sol\n",
      "Processing Record 25 of Set 3 | volksrust\n",
      "Processing Record 26 of Set 3 | markova\n",
      "Processing Record 27 of Set 3 | shubarshi\n",
      "Processing Record 28 of Set 3 | atar\n",
      "Processing Record 29 of Set 3 | sao jose da coroa grande\n",
      "Processing Record 30 of Set 3 | coquimbo\n",
      "Processing Record 31 of Set 3 | fredericksburg\n",
      "Processing Record 32 of Set 3 | vaini\n",
      "Processing Record 33 of Set 3 | barrow\n",
      "Processing Record 34 of Set 3 | ipanema\n",
      "Processing Record 35 of Set 3 | sitka\n",
      "Processing Record 36 of Set 3 | beringovskiy\n",
      "Processing Record 37 of Set 3 | taybad\n",
      "Processing Record 38 of Set 3 | carnarvon\n",
      "Processing Record 39 of Set 3 | nyurba\n",
      "Processing Record 40 of Set 3 | bowen\n",
      "Processing Record 41 of Set 3 | kapaa\n",
      "Processing Record 42 of Set 3 | mutsu\n",
      "City not found. Skipping...\n",
      "Processing Record 43 of Set 3 | kudahuvadhoo\n",
      "Processing Record 44 of Set 3 | saint-francois\n",
      "Processing Record 45 of Set 3 | faanui\n",
      "Processing Record 46 of Set 3 | tabou\n",
      "Processing Record 47 of Set 3 | euclid\n",
      "Processing Record 48 of Set 3 | lotofaga\n",
      "Processing Record 49 of Set 3 | tawau\n",
      "Processing Record 1 of Set 4 | stanislav\n",
      "Processing Record 2 of Set 4 | balkhash\n",
      "Processing Record 3 of Set 4 | hithadhoo\n",
      "Processing Record 4 of Set 4 | coahuayana\n",
      "Processing Record 5 of Set 4 | camacupa\n",
      "Processing Record 6 of Set 4 | georgetown\n",
      "Processing Record 7 of Set 4 | la ronge\n",
      "Processing Record 8 of Set 4 | cape town\n",
      "Processing Record 9 of Set 4 | srednekolymsk\n",
      "Processing Record 10 of Set 4 | chapleau\n",
      "Processing Record 11 of Set 4 | ouadda\n",
      "Processing Record 12 of Set 4 | miyako\n",
      "Processing Record 13 of Set 4 | canyon lake\n",
      "Processing Record 14 of Set 4 | nyrob\n",
      "Processing Record 15 of Set 4 | mamakan\n",
      "Processing Record 16 of Set 4 | nizhniy odes\n",
      "Processing Record 17 of Set 4 | khani\n",
      "Processing Record 18 of Set 4 | avera\n",
      "Processing Record 19 of Set 4 | qasigiannguit\n",
      "Processing Record 20 of Set 4 | codrington\n",
      "Processing Record 21 of Set 4 | melilla\n",
      "Processing Record 22 of Set 4 | provideniya\n",
      "Processing Record 23 of Set 4 | tura\n",
      "Processing Record 24 of Set 4 | negara\n",
      "Processing Record 25 of Set 4 | mehamn\n",
      "Processing Record 26 of Set 4 | labytnangi\n",
      "Processing Record 27 of Set 4 | semnan\n",
      "Processing Record 28 of Set 4 | hami\n",
      "Processing Record 29 of Set 4 | mahenge\n",
      "Processing Record 30 of Set 4 | brigham city\n",
      "Processing Record 31 of Set 4 | east london\n",
      "Processing Record 32 of Set 4 | vanavara\n",
      "City not found. Skipping...\n",
      "City not found. Skipping...\n",
      "Processing Record 33 of Set 4 | richards bay\n",
      "Processing Record 34 of Set 4 | vila\n",
      "Processing Record 35 of Set 4 | oume\n",
      "Processing Record 36 of Set 4 | kazerun\n",
      "Processing Record 37 of Set 4 | amarante\n",
      "Processing Record 38 of Set 4 | puerto rico\n",
      "City not found. Skipping...\n",
      "City not found. Skipping...\n",
      "Processing Record 39 of Set 4 | noumea\n",
      "Processing Record 40 of Set 4 | peshkopi\n",
      "Processing Record 41 of Set 4 | celestun\n"
     ]
    },
    {
     "name": "stdout",
     "output_type": "stream",
     "text": [
      "Processing Record 42 of Set 4 | nakusp\n",
      "Processing Record 43 of Set 4 | bakchar\n",
      "Processing Record 44 of Set 4 | bengkulu\n",
      "Processing Record 45 of Set 4 | tautira\n",
      "City not found. Skipping...\n",
      "Processing Record 46 of Set 4 | kaitangata\n",
      "Processing Record 47 of Set 4 | mareeba\n",
      "City not found. Skipping...\n",
      "Processing Record 48 of Set 4 | hawick\n",
      "Processing Record 49 of Set 4 | inhambane\n",
      "Processing Record 1 of Set 5 | valenca do piaui\n",
      "Processing Record 2 of Set 5 | te anau\n",
      "Processing Record 3 of Set 5 | praia da vitoria\n",
      "Processing Record 4 of Set 5 | port lincoln\n",
      "Processing Record 5 of Set 5 | lompoc\n",
      "Processing Record 6 of Set 5 | ebolowa\n",
      "Processing Record 7 of Set 5 | fort nelson\n",
      "Processing Record 8 of Set 5 | victoria\n",
      "Processing Record 9 of Set 5 | christchurch\n",
      "Processing Record 10 of Set 5 | kondinskoye\n",
      "Processing Record 11 of Set 5 | ahipara\n",
      "Processing Record 12 of Set 5 | hamilton\n",
      "Processing Record 13 of Set 5 | shieli\n",
      "Processing Record 14 of Set 5 | baie-comeau\n",
      "Processing Record 15 of Set 5 | nome\n",
      "Processing Record 16 of Set 5 | portland\n",
      "Processing Record 17 of Set 5 | saldanha\n",
      "Processing Record 18 of Set 5 | ancud\n",
      "Processing Record 19 of Set 5 | saint-philippe\n",
      "Processing Record 20 of Set 5 | zharkent\n",
      "Processing Record 21 of Set 5 | oktyabrskiy\n",
      "Processing Record 22 of Set 5 | ouesso\n",
      "Processing Record 23 of Set 5 | dobrljin\n",
      "City not found. Skipping...\n",
      "Processing Record 24 of Set 5 | caraquet\n",
      "Processing Record 25 of Set 5 | chuy\n",
      "Processing Record 26 of Set 5 | geelong\n",
      "City not found. Skipping...\n",
      "Processing Record 27 of Set 5 | mulege\n",
      "Processing Record 28 of Set 5 | guerrero negro\n",
      "Processing Record 29 of Set 5 | leningradskiy\n",
      "Processing Record 30 of Set 5 | redmond\n",
      "Processing Record 31 of Set 5 | tidman\n",
      "Processing Record 32 of Set 5 | dingle\n",
      "Processing Record 33 of Set 5 | mbengwi\n",
      "Processing Record 34 of Set 5 | caravelas\n",
      "Processing Record 35 of Set 5 | meteti\n",
      "City not found. Skipping...\n",
      "Processing Record 36 of Set 5 | muravlenko\n",
      "Processing Record 37 of Set 5 | marsa matruh\n",
      "Processing Record 38 of Set 5 | ilulissat\n",
      "Processing Record 39 of Set 5 | pangnirtung\n",
      "Processing Record 40 of Set 5 | sulangan\n",
      "Processing Record 41 of Set 5 | imbituba\n",
      "Processing Record 42 of Set 5 | hammerfest\n",
      "Processing Record 43 of Set 5 | caconda\n",
      "City not found. Skipping...\n",
      "Processing Record 44 of Set 5 | ondjiva\n",
      "Processing Record 45 of Set 5 | la paz\n",
      "Processing Record 46 of Set 5 | komsomolskiy\n",
      "Processing Record 47 of Set 5 | weatherford\n",
      "Processing Record 48 of Set 5 | ati\n",
      "Processing Record 49 of Set 5 | talnakh\n",
      "Processing Record 1 of Set 6 | sabang\n",
      "Processing Record 2 of Set 6 | okha\n",
      "Processing Record 3 of Set 6 | shenjiamen\n",
      "Processing Record 4 of Set 6 | ucluelet\n",
      "Processing Record 5 of Set 6 | elizabeth city\n",
      "City not found. Skipping...\n",
      "Processing Record 6 of Set 6 | pokhara\n",
      "Processing Record 7 of Set 6 | pacific grove\n",
      "Processing Record 8 of Set 6 | warangal\n",
      "Processing Record 9 of Set 6 | beisfjord\n",
      "Processing Record 10 of Set 6 | mahebourg\n",
      "Processing Record 11 of Set 6 | yeppoon\n",
      "Processing Record 12 of Set 6 | jumla\n",
      "Processing Record 13 of Set 6 | umm lajj\n",
      "Processing Record 14 of Set 6 | mahon\n",
      "Processing Record 15 of Set 6 | saint george\n",
      "Processing Record 16 of Set 6 | kannangad\n",
      "Processing Record 17 of Set 6 | steinbach\n",
      "Processing Record 18 of Set 6 | fairbanks\n",
      "Processing Record 19 of Set 6 | sobolevo\n",
      "Processing Record 20 of Set 6 | tabriz\n",
      "Processing Record 21 of Set 6 | kloulklubed\n",
      "Processing Record 22 of Set 6 | shingu\n",
      "Processing Record 23 of Set 6 | tilichiki\n",
      "Processing Record 24 of Set 6 | phan thiet\n",
      "Processing Record 25 of Set 6 | chokurdakh\n",
      "Processing Record 26 of Set 6 | charters towers\n",
      "Processing Record 27 of Set 6 | inuvik\n",
      "Processing Record 28 of Set 6 | shache\n",
      "Processing Record 29 of Set 6 | saint-augustin\n",
      "Processing Record 30 of Set 6 | pizarro\n",
      "Processing Record 31 of Set 6 | walvis bay\n",
      "Processing Record 32 of Set 6 | la asuncion\n",
      "Processing Record 33 of Set 6 | puri\n",
      "Processing Record 34 of Set 6 | nanortalik\n",
      "Processing Record 35 of Set 6 | kenai\n",
      "Processing Record 36 of Set 6 | vostok\n",
      "Processing Record 37 of Set 6 | mega\n",
      "Processing Record 38 of Set 6 | kavieng\n",
      "City not found. Skipping...\n",
      "Processing Record 39 of Set 6 | fereydun kenar\n",
      "Processing Record 40 of Set 6 | mawlaik\n",
      "City not found. Skipping...\n",
      "City not found. Skipping...\n",
      "Processing Record 41 of Set 6 | kaz\n",
      "Processing Record 42 of Set 6 | azare\n",
      "Processing Record 43 of Set 6 | fortuna\n",
      "Processing Record 44 of Set 6 | morant bay\n",
      "Processing Record 45 of Set 6 | dullewala\n",
      "Processing Record 46 of Set 6 | luderitz\n",
      "Processing Record 47 of Set 6 | port blair\n",
      "City not found. Skipping...\n",
      "City not found. Skipping...\n",
      "Processing Record 48 of Set 6 | yumen\n",
      "Processing Record 49 of Set 6 | qaqortoq\n",
      "Processing Record 1 of Set 7 | floro\n",
      "Processing Record 2 of Set 7 | ngunguru\n",
      "Processing Record 3 of Set 7 | puerto colombia\n",
      "Processing Record 4 of Set 7 | tasiilaq\n",
      "Processing Record 5 of Set 7 | leshukonskoye\n",
      "Processing Record 6 of Set 7 | kota bahru\n",
      "Processing Record 7 of Set 7 | deputatskiy\n",
      "Processing Record 8 of Set 7 | faya\n",
      "Processing Record 9 of Set 7 | lichinga\n",
      "Processing Record 10 of Set 7 | podujevo\n",
      "Processing Record 11 of Set 7 | la palma\n",
      "Processing Record 12 of Set 7 | betong\n",
      "Processing Record 13 of Set 7 | aktash\n",
      "Processing Record 14 of Set 7 | vila franca do campo\n",
      "Processing Record 15 of Set 7 | margate\n",
      "Processing Record 16 of Set 7 | geraldton\n",
      "Processing Record 17 of Set 7 | norman wells\n",
      "Processing Record 18 of Set 7 | lock haven\n",
      "Processing Record 19 of Set 7 | cascais\n",
      "Processing Record 20 of Set 7 | coihaique\n",
      "Processing Record 21 of Set 7 | santa isabel do rio negro\n",
      "Processing Record 22 of Set 7 | upernavik\n",
      "Processing Record 23 of Set 7 | necochea\n",
      "Processing Record 24 of Set 7 | dallas\n",
      "City not found. Skipping...\n",
      "Processing Record 25 of Set 7 | katsuura\n",
      "Processing Record 26 of Set 7 | muli\n",
      "Processing Record 27 of Set 7 | hofn\n",
      "City not found. Skipping...\n",
      "Processing Record 28 of Set 7 | cap malheureux\n",
      "Processing Record 29 of Set 7 | konstantinovka\n",
      "Processing Record 30 of Set 7 | la rioja\n",
      "Processing Record 31 of Set 7 | channel-port aux basques\n",
      "Processing Record 32 of Set 7 | nioro\n",
      "Processing Record 33 of Set 7 | zhezkazgan\n",
      "Processing Record 34 of Set 7 | monterey\n",
      "City not found. Skipping...\n",
      "Processing Record 35 of Set 7 | drumnadrochit\n",
      "Processing Record 36 of Set 7 | maicao\n",
      "Processing Record 37 of Set 7 | kaili\n",
      "Processing Record 38 of Set 7 | port hardy\n",
      "Processing Record 39 of Set 7 | evensk\n",
      "Processing Record 40 of Set 7 | nakhon phanom\n",
      "Processing Record 41 of Set 7 | nanpiao\n",
      "Processing Record 42 of Set 7 | roebourne\n",
      "City not found. Skipping...\n",
      "Processing Record 43 of Set 7 | ust-ishim\n",
      "City not found. Skipping...\n",
      "City not found. Skipping...\n",
      "Processing Record 44 of Set 7 | yarmouth\n",
      "Processing Record 45 of Set 7 | zermatt\n",
      "Processing Record 46 of Set 7 | tuy hoa\n",
      "Processing Record 47 of Set 7 | iralaya\n",
      "Processing Record 48 of Set 7 | moindou\n",
      "Processing Record 49 of Set 7 | makakilo city\n",
      "Processing Record 1 of Set 8 | mandera\n",
      "Processing Record 2 of Set 8 | grand baie\n",
      "Processing Record 3 of Set 8 | biri\n",
      "Processing Record 4 of Set 8 | dwarahat\n",
      "Processing Record 5 of Set 8 | cayenne\n",
      "Processing Record 6 of Set 8 | high level\n",
      "Processing Record 7 of Set 8 | hue\n",
      "Processing Record 8 of Set 8 | palestine\n",
      "Processing Record 9 of Set 8 | nouadhibou\n",
      "Processing Record 10 of Set 8 | sao filipe\n",
      "Processing Record 11 of Set 8 | uberlandia\n",
      "Processing Record 12 of Set 8 | mayumba\n",
      "Processing Record 13 of Set 8 | jinhua\n",
      "Processing Record 14 of Set 8 | sur\n",
      "Processing Record 15 of Set 8 | kalanguy\n",
      "Processing Record 16 of Set 8 | plettenberg bay\n",
      "City not found. Skipping...\n",
      "Processing Record 17 of Set 8 | harper\n",
      "Processing Record 18 of Set 8 | kirakira\n",
      "Processing Record 19 of Set 8 | oranjemund\n",
      "Processing Record 20 of Set 8 | varadero\n",
      "Processing Record 21 of Set 8 | udachnyy\n",
      "Processing Record 22 of Set 8 | mindelo\n",
      "Processing Record 23 of Set 8 | estelle\n",
      "Processing Record 24 of Set 8 | lerici\n",
      "Processing Record 25 of Set 8 | rundu\n",
      "Processing Record 26 of Set 8 | tuatapere\n",
      "City not found. Skipping...\n",
      "Processing Record 27 of Set 8 | passagem franca\n",
      "Processing Record 28 of Set 8 | aklavik\n",
      "Processing Record 29 of Set 8 | husavik\n",
      "Processing Record 30 of Set 8 | vao\n"
     ]
    },
    {
     "name": "stdout",
     "output_type": "stream",
     "text": [
      "Processing Record 31 of Set 8 | farmington\n",
      "Processing Record 32 of Set 8 | harlingen\n",
      "Processing Record 33 of Set 8 | escanaba\n",
      "Processing Record 34 of Set 8 | ugoofaaru\n",
      "Processing Record 35 of Set 8 | ailigandi\n",
      "Processing Record 36 of Set 8 | lucapa\n",
      "Processing Record 37 of Set 8 | neuquen\n",
      "Processing Record 38 of Set 8 | zonguldak\n",
      "Processing Record 39 of Set 8 | kolokani\n",
      "Processing Record 40 of Set 8 | jimenez\n",
      "Processing Record 41 of Set 8 | gatesville\n",
      "Processing Record 42 of Set 8 | sioux lookout\n",
      "Processing Record 43 of Set 8 | lethem\n",
      "Processing Record 44 of Set 8 | surt\n",
      "Processing Record 45 of Set 8 | mahibadhoo\n",
      "Processing Record 46 of Set 8 | gravdal\n",
      "Processing Record 47 of Set 8 | behbahan\n",
      "Processing Record 48 of Set 8 | chiredzi\n",
      "Processing Record 49 of Set 8 | severo-kurilsk\n",
      "Processing Record 1 of Set 9 | yar-sale\n",
      "Processing Record 2 of Set 9 | atasu\n",
      "Processing Record 3 of Set 9 | porto novo\n",
      "Processing Record 4 of Set 9 | batagay-alyta\n",
      "Processing Record 5 of Set 9 | naze\n",
      "Processing Record 6 of Set 9 | esperance\n",
      "Processing Record 7 of Set 9 | longonjo\n",
      "Processing Record 8 of Set 9 | glendive\n",
      "Processing Record 9 of Set 9 | katherine\n",
      "Processing Record 10 of Set 9 | nikolskoye\n",
      "City not found. Skipping...\n",
      "Processing Record 11 of Set 9 | gamba\n",
      "Processing Record 12 of Set 9 | jingdezhen\n",
      "Processing Record 13 of Set 9 | rawson\n",
      "Processing Record 14 of Set 9 | kasempa\n",
      "Processing Record 15 of Set 9 | singarayakonda\n",
      "Processing Record 16 of Set 9 | aswan\n",
      "Processing Record 17 of Set 9 | sayyan\n",
      "Processing Record 18 of Set 9 | stadtbredimus\n",
      "Processing Record 19 of Set 9 | sept-iles\n",
      "City not found. Skipping...\n",
      "Processing Record 20 of Set 9 | sangar\n",
      "Processing Record 21 of Set 9 | smithers\n",
      "City not found. Skipping...\n",
      "Processing Record 22 of Set 9 | menongue\n",
      "Processing Record 23 of Set 9 | grand gaube\n",
      "Processing Record 24 of Set 9 | guangyuan\n",
      "Processing Record 25 of Set 9 | dumas\n",
      "Processing Record 26 of Set 9 | jiaojiang\n",
      "Processing Record 27 of Set 9 | moundou\n",
      "Processing Record 28 of Set 9 | highland\n",
      "Processing Record 29 of Set 9 | lagos\n",
      "Processing Record 30 of Set 9 | ambovombe\n",
      "Processing Record 31 of Set 9 | sibu\n",
      "Processing Record 32 of Set 9 | puerto del rosario\n",
      "Processing Record 33 of Set 9 | sinazongwe\n",
      "Processing Record 34 of Set 9 | oskemen\n",
      "Processing Record 35 of Set 9 | lavrentiya\n",
      "Processing Record 36 of Set 9 | acapulco\n",
      "Processing Record 37 of Set 9 | mocuba\n",
      "Processing Record 38 of Set 9 | saint-joseph\n",
      "Processing Record 39 of Set 9 | otjimbingwe\n",
      "Processing Record 40 of Set 9 | canete\n",
      "Processing Record 41 of Set 9 | madang\n",
      "City not found. Skipping...\n",
      "Processing Record 42 of Set 9 | cabo san lucas\n",
      "Processing Record 43 of Set 9 | banjar\n",
      "Processing Record 44 of Set 9 | suntar\n",
      "Processing Record 45 of Set 9 | egvekinot\n",
      "Processing Record 46 of Set 9 | canatlan\n",
      "Processing Record 47 of Set 9 | svetlaya\n",
      "Processing Record 48 of Set 9 | lata\n",
      "Processing Record 49 of Set 9 | sembakung\n",
      "Processing Record 1 of Set 10 | pisco\n",
      "Processing Record 2 of Set 10 | jhargram\n",
      "Processing Record 3 of Set 10 | songjianghe\n",
      "Processing Record 4 of Set 10 | minggang\n",
      "Processing Record 5 of Set 10 | iberia\n",
      "Processing Record 6 of Set 10 | lorengau\n",
      "Processing Record 7 of Set 10 | salisbury\n",
      "Processing Record 8 of Set 10 | myitkyina\n",
      "Processing Record 9 of Set 10 | alugan\n",
      "Processing Record 10 of Set 10 | gizo\n",
      "Processing Record 11 of Set 10 | napoleon\n",
      "Processing Record 12 of Set 10 | sistranda\n",
      "Processing Record 13 of Set 10 | osinki\n",
      "Processing Record 14 of Set 10 | bud\n",
      "Processing Record 15 of Set 10 | korla\n",
      "Processing Record 16 of Set 10 | bay roberts\n",
      "City not found. Skipping...\n",
      "Processing Record 17 of Set 10 | aripuana\n",
      "Processing Record 18 of Set 10 | pontal do parana\n",
      "Processing Record 19 of Set 10 | milkovo\n",
      "Processing Record 20 of Set 10 | chapada dos guimaraes\n",
      "Processing Record 21 of Set 10 | westport\n",
      "Processing Record 22 of Set 10 | lagoa\n",
      "Processing Record 23 of Set 10 | olavarria\n",
      "Processing Record 24 of Set 10 | severomuysk\n",
      "Processing Record 25 of Set 10 | guiratinga\n",
      "Processing Record 26 of Set 10 | kodinsk\n",
      "Processing Record 27 of Set 10 | letnyaya stavka\n",
      "Processing Record 28 of Set 10 | los llanos de aridane\n",
      "Processing Record 29 of Set 10 | luena\n",
      "Processing Record 30 of Set 10 | khakhea\n",
      "Processing Record 31 of Set 10 | shetpe\n",
      "Processing Record 32 of Set 10 | vallenar\n",
      "Processing Record 33 of Set 10 | saint-pierre\n",
      "Processing Record 34 of Set 10 | manaure\n",
      "Processing Record 35 of Set 10 | kerrville\n",
      "Processing Record 36 of Set 10 | mangrol\n",
      "Processing Record 37 of Set 10 | loralai\n",
      "Processing Record 38 of Set 10 | matagami\n",
      "Processing Record 39 of Set 10 | basse-pointe\n",
      "Processing Record 40 of Set 10 | brake\n",
      "Processing Record 41 of Set 10 | fukue\n",
      "Processing Record 42 of Set 10 | hailar\n",
      "Processing Record 43 of Set 10 | tolosa\n",
      "Processing Record 44 of Set 10 | vestmannaeyjar\n",
      "Processing Record 45 of Set 10 | hartselle\n",
      "Processing Record 46 of Set 10 | quelimane\n",
      "Processing Record 47 of Set 10 | beloha\n",
      "City not found. Skipping...\n",
      "Processing Record 48 of Set 10 | chapais\n",
      "Processing Record 49 of Set 10 | agadez\n",
      "Processing Record 1 of Set 11 | tamiahua\n",
      "Processing Record 2 of Set 11 | kjustendil\n",
      "Processing Record 3 of Set 11 | kota belud\n",
      "Processing Record 4 of Set 11 | wenling\n",
      "Processing Record 5 of Set 11 | lakatoro\n",
      "Processing Record 6 of Set 11 | levin\n",
      "Processing Record 7 of Set 11 | taoudenni\n",
      "Processing Record 8 of Set 11 | kortkeros\n",
      "Processing Record 9 of Set 11 | ambilobe\n",
      "Processing Record 10 of Set 11 | cabedelo\n",
      "Processing Record 11 of Set 11 | puerto leguizamo\n",
      "Processing Record 12 of Set 11 | pringsewu\n",
      "Processing Record 13 of Set 11 | morro agudo\n",
      "Processing Record 14 of Set 11 | kerman\n",
      "Processing Record 15 of Set 11 | teseney\n",
      "Processing Record 16 of Set 11 | nuuk\n",
      "Processing Record 17 of Set 11 | curuguaty\n",
      "Processing Record 18 of Set 11 | pangoa\n",
      "Processing Record 19 of Set 11 | ciudad bolivar\n",
      "Processing Record 20 of Set 11 | dudinka\n",
      "Processing Record 21 of Set 11 | valparaiso\n",
      "Processing Record 22 of Set 11 | tabuk\n",
      "Processing Record 23 of Set 11 | las cruces\n",
      "Processing Record 24 of Set 11 | general pico\n",
      "Processing Record 25 of Set 11 | kyzyl\n",
      "Processing Record 26 of Set 11 | marquette\n",
      "Processing Record 27 of Set 11 | zabol\n",
      "Processing Record 28 of Set 11 | tornio\n",
      "Processing Record 29 of Set 11 | norwalk\n",
      "Processing Record 30 of Set 11 | riohacha\n",
      "Processing Record 31 of Set 11 | damara\n",
      "Processing Record 32 of Set 11 | voyvozh\n",
      "Processing Record 33 of Set 11 | niamey\n",
      "Processing Record 34 of Set 11 | raudeberg\n",
      "Processing Record 35 of Set 11 | nabire\n",
      "Processing Record 36 of Set 11 | lago da pedra\n",
      "Processing Record 37 of Set 11 | hovd\n",
      "Processing Record 38 of Set 11 | kuching\n",
      "Processing Record 39 of Set 11 | cairns\n",
      "Processing Record 40 of Set 11 | la solana\n",
      "Processing Record 41 of Set 11 | meulaboh\n",
      "Processing Record 42 of Set 11 | northam\n",
      "Processing Record 43 of Set 11 | salalah\n",
      "Processing Record 44 of Set 11 | klyuchi\n",
      "Processing Record 45 of Set 11 | brewster\n",
      "City not found. Skipping...\n",
      "Processing Record 46 of Set 11 | bratsk\n",
      "Processing Record 47 of Set 11 | linqing\n",
      "Processing Record 48 of Set 11 | dawlatabad\n",
      "Processing Record 49 of Set 11 | dzerzhinskoye\n",
      "Processing Record 1 of Set 12 | iwaki\n",
      "Processing Record 2 of Set 12 | derzhavinsk\n",
      "Processing Record 3 of Set 12 | victoria point\n",
      "Processing Record 4 of Set 12 | kavaratti\n",
      "Processing Record 5 of Set 12 | copiapo\n",
      "Processing Record 6 of Set 12 | colares\n",
      "Processing Record 7 of Set 12 | kieta\n",
      "Processing Record 8 of Set 12 | natalio\n",
      "City not found. Skipping...\n",
      "Processing Record 9 of Set 12 | teya\n",
      "Processing Record 10 of Set 12 | fontenay-le-comte\n",
      "Processing Record 11 of Set 12 | kismayo\n",
      "City not found. Skipping...\n",
      "Processing Record 12 of Set 12 | khor\n",
      "Processing Record 13 of Set 12 | ereymentau\n",
      "Processing Record 14 of Set 12 | farafangana\n",
      "Processing Record 15 of Set 12 | moron\n",
      "Processing Record 16 of Set 12 | inongo\n",
      "Processing Record 17 of Set 12 | nhulunbuy\n",
      "Processing Record 18 of Set 12 | languyan\n",
      "Processing Record 19 of Set 12 | pointe michel\n",
      "Processing Record 20 of Set 12 | turan\n",
      "Processing Record 21 of Set 12 | saint anthony\n",
      "City not found. Skipping...\n",
      "Processing Record 22 of Set 12 | yashalta\n",
      "Processing Record 23 of Set 12 | igarka\n",
      "Processing Record 24 of Set 12 | peniche\n"
     ]
    },
    {
     "name": "stdout",
     "output_type": "stream",
     "text": [
      "Processing Record 25 of Set 12 | waipawa\n",
      "Processing Record 26 of Set 12 | vanimo\n",
      "Processing Record 27 of Set 12 | yulara\n",
      "Processing Record 28 of Set 12 | areka\n",
      "Processing Record 29 of Set 12 | santa maria do suacui\n",
      "Processing Record 30 of Set 12 | trogir\n",
      "Processing Record 31 of Set 12 | jiangkou\n",
      "Processing Record 32 of Set 12 | flin flon\n",
      "Processing Record 33 of Set 12 | kabwe\n",
      "Processing Record 34 of Set 12 | noshiro\n",
      "Processing Record 35 of Set 12 | guiglo\n",
      "Processing Record 36 of Set 12 | shahrud\n",
      "Processing Record 37 of Set 12 | shakawe\n",
      "Processing Record 38 of Set 12 | bayir\n",
      "------------------------------\n",
      "Data Retrieval Complete\n",
      "------------------------------\n"
     ]
    }
   ],
   "source": [
    "\n",
    "second_city = []\n",
    "cloudiness = []\n",
    "dates = []\n",
    "humidity = []\n",
    "lat = []\n",
    "long = []\n",
    "temp = []\n",
    "wind_speed = []\n",
    "countries = []\n",
    "\n",
    "counter = 0\n",
    "set_term = 1\n",
    "\n",
    "# loops for creating dataframe columns\n",
    "for city in cities:\n",
    "    try:\n",
    "        response = requests.get(query_url + city).json()\n",
    "        cloudiness.append(response['clouds']['all'])\n",
    "        countries.append(response['sys']['country'])\n",
    "        dates.append(response['dt'])\n",
    "        humidity.append(response['main']['humidity'])\n",
    "        lat.append(response['coord']['lat'])\n",
    "        long.append(response['coord']['lon'])\n",
    "        temp.append(response['main']['temp_max'])\n",
    "        wind_speed.append(response['wind']['speed'])\n",
    "        if counter > 48:\n",
    "            counter = 1\n",
    "            set_term += 1\n",
    "            second_city.append(city)\n",
    "        else:\n",
    "            counter += 1\n",
    "            second_city.append(city)\n",
    "        print(f\"Processing Record {counter} of Set {set_term} | {city}\")\n",
    "    except Exception:\n",
    "        print(\"City not found. Skipping...\")\n",
    "print(\"------------------------------\\nData Retrieval Complete\\n------------------------------\")"
   ]
  },
  {
   "cell_type": "markdown",
   "metadata": {},
   "source": [
    "### Convert Raw Data to DataFrame\n",
    "* Export the city data into a .csv.\n",
    "* Display the DataFrame"
   ]
  },
  {
   "cell_type": "code",
   "execution_count": 7,
   "metadata": {},
   "outputs": [
    {
     "data": {
      "text/plain": [
       "City          577\n",
       "Cloudiness    577\n",
       "Country       577\n",
       "Date          577\n",
       "Humidity      577\n",
       "Lat           577\n",
       "Lng           577\n",
       "Max Temp      577\n",
       "Wind Speed    577\n",
       "dtype: int64"
      ]
     },
     "execution_count": 7,
     "metadata": {},
     "output_type": "execute_result"
    }
   ],
   "source": [
    "# Create a dictionary to keep data \n",
    "weather_dict = {\n",
    "    \"City\": second_city,\n",
    "    \"Cloudiness\": cloudiness,\n",
    "    \"Country\": countries,\n",
    "    \"Date\": dates,\n",
    "    \"Humidity\": humidity,\n",
    "    \"Lat\": lat,\n",
    "    \"Lng\": long,\n",
    "    \"Max Temp\": temp,\n",
    "    \"Wind Speed\": wind_speed  \n",
    " }\n",
    "\n",
    "# Create the data frame and count variables for each columns\n",
    "weather_df = pd.DataFrame(weather_dict)\n",
    "weather_df.count()"
   ]
  },
  {
   "cell_type": "code",
   "execution_count": 8,
   "metadata": {},
   "outputs": [
    {
     "data": {
      "text/html": [
       "<div>\n",
       "<style scoped>\n",
       "    .dataframe tbody tr th:only-of-type {\n",
       "        vertical-align: middle;\n",
       "    }\n",
       "\n",
       "    .dataframe tbody tr th {\n",
       "        vertical-align: top;\n",
       "    }\n",
       "\n",
       "    .dataframe thead th {\n",
       "        text-align: right;\n",
       "    }\n",
       "</style>\n",
       "<table border=\"1\" class=\"dataframe\">\n",
       "  <thead>\n",
       "    <tr style=\"text-align: right;\">\n",
       "      <th></th>\n",
       "      <th>City</th>\n",
       "      <th>Cloudiness</th>\n",
       "      <th>Country</th>\n",
       "      <th>Date</th>\n",
       "      <th>Humidity</th>\n",
       "      <th>Lat</th>\n",
       "      <th>Lng</th>\n",
       "      <th>Max Temp</th>\n",
       "      <th>Wind Speed</th>\n",
       "    </tr>\n",
       "  </thead>\n",
       "  <tbody>\n",
       "    <tr>\n",
       "      <td>0</td>\n",
       "      <td>mataura</td>\n",
       "      <td>100</td>\n",
       "      <td>NZ</td>\n",
       "      <td>1580621085</td>\n",
       "      <td>94</td>\n",
       "      <td>-46.19</td>\n",
       "      <td>168.86</td>\n",
       "      <td>57.00</td>\n",
       "      <td>1.99</td>\n",
       "    </tr>\n",
       "    <tr>\n",
       "      <td>1</td>\n",
       "      <td>cuxhaven</td>\n",
       "      <td>75</td>\n",
       "      <td>DE</td>\n",
       "      <td>1580621085</td>\n",
       "      <td>87</td>\n",
       "      <td>53.87</td>\n",
       "      <td>8.69</td>\n",
       "      <td>45.00</td>\n",
       "      <td>12.75</td>\n",
       "    </tr>\n",
       "    <tr>\n",
       "      <td>2</td>\n",
       "      <td>sao joao da barra</td>\n",
       "      <td>94</td>\n",
       "      <td>BR</td>\n",
       "      <td>1580621085</td>\n",
       "      <td>91</td>\n",
       "      <td>-21.64</td>\n",
       "      <td>-41.05</td>\n",
       "      <td>76.93</td>\n",
       "      <td>5.99</td>\n",
       "    </tr>\n",
       "    <tr>\n",
       "      <td>3</td>\n",
       "      <td>punta arenas</td>\n",
       "      <td>75</td>\n",
       "      <td>CL</td>\n",
       "      <td>1580621085</td>\n",
       "      <td>81</td>\n",
       "      <td>-53.15</td>\n",
       "      <td>-70.92</td>\n",
       "      <td>46.40</td>\n",
       "      <td>19.46</td>\n",
       "    </tr>\n",
       "    <tr>\n",
       "      <td>4</td>\n",
       "      <td>alice springs</td>\n",
       "      <td>90</td>\n",
       "      <td>AU</td>\n",
       "      <td>1580621085</td>\n",
       "      <td>100</td>\n",
       "      <td>-23.70</td>\n",
       "      <td>133.88</td>\n",
       "      <td>66.20</td>\n",
       "      <td>9.17</td>\n",
       "    </tr>\n",
       "    <tr>\n",
       "      <td>...</td>\n",
       "      <td>...</td>\n",
       "      <td>...</td>\n",
       "      <td>...</td>\n",
       "      <td>...</td>\n",
       "      <td>...</td>\n",
       "      <td>...</td>\n",
       "      <td>...</td>\n",
       "      <td>...</td>\n",
       "      <td>...</td>\n",
       "    </tr>\n",
       "    <tr>\n",
       "      <td>572</td>\n",
       "      <td>noshiro</td>\n",
       "      <td>75</td>\n",
       "      <td>JP</td>\n",
       "      <td>1580621144</td>\n",
       "      <td>60</td>\n",
       "      <td>40.20</td>\n",
       "      <td>140.02</td>\n",
       "      <td>39.20</td>\n",
       "      <td>14.99</td>\n",
       "    </tr>\n",
       "    <tr>\n",
       "      <td>573</td>\n",
       "      <td>guiglo</td>\n",
       "      <td>44</td>\n",
       "      <td>CI</td>\n",
       "      <td>1580621144</td>\n",
       "      <td>99</td>\n",
       "      <td>6.55</td>\n",
       "      <td>-7.50</td>\n",
       "      <td>70.74</td>\n",
       "      <td>2.48</td>\n",
       "    </tr>\n",
       "    <tr>\n",
       "      <td>574</td>\n",
       "      <td>shahrud</td>\n",
       "      <td>100</td>\n",
       "      <td>IR</td>\n",
       "      <td>1580621144</td>\n",
       "      <td>59</td>\n",
       "      <td>36.42</td>\n",
       "      <td>54.98</td>\n",
       "      <td>31.42</td>\n",
       "      <td>6.64</td>\n",
       "    </tr>\n",
       "    <tr>\n",
       "      <td>575</td>\n",
       "      <td>shakawe</td>\n",
       "      <td>85</td>\n",
       "      <td>BW</td>\n",
       "      <td>1580621144</td>\n",
       "      <td>69</td>\n",
       "      <td>-18.37</td>\n",
       "      <td>21.85</td>\n",
       "      <td>73.33</td>\n",
       "      <td>6.20</td>\n",
       "    </tr>\n",
       "    <tr>\n",
       "      <td>576</td>\n",
       "      <td>bayir</td>\n",
       "      <td>20</td>\n",
       "      <td>TR</td>\n",
       "      <td>1580621144</td>\n",
       "      <td>93</td>\n",
       "      <td>37.27</td>\n",
       "      <td>28.22</td>\n",
       "      <td>39.20</td>\n",
       "      <td>2.24</td>\n",
       "    </tr>\n",
       "  </tbody>\n",
       "</table>\n",
       "<p>577 rows × 9 columns</p>\n",
       "</div>"
      ],
      "text/plain": [
       "                  City  Cloudiness Country        Date  Humidity    Lat  \\\n",
       "0              mataura         100      NZ  1580621085        94 -46.19   \n",
       "1             cuxhaven          75      DE  1580621085        87  53.87   \n",
       "2    sao joao da barra          94      BR  1580621085        91 -21.64   \n",
       "3         punta arenas          75      CL  1580621085        81 -53.15   \n",
       "4        alice springs          90      AU  1580621085       100 -23.70   \n",
       "..                 ...         ...     ...         ...       ...    ...   \n",
       "572            noshiro          75      JP  1580621144        60  40.20   \n",
       "573             guiglo          44      CI  1580621144        99   6.55   \n",
       "574            shahrud         100      IR  1580621144        59  36.42   \n",
       "575            shakawe          85      BW  1580621144        69 -18.37   \n",
       "576              bayir          20      TR  1580621144        93  37.27   \n",
       "\n",
       "        Lng  Max Temp  Wind Speed  \n",
       "0    168.86     57.00        1.99  \n",
       "1      8.69     45.00       12.75  \n",
       "2    -41.05     76.93        5.99  \n",
       "3    -70.92     46.40       19.46  \n",
       "4    133.88     66.20        9.17  \n",
       "..      ...       ...         ...  \n",
       "572  140.02     39.20       14.99  \n",
       "573   -7.50     70.74        2.48  \n",
       "574   54.98     31.42        6.64  \n",
       "575   21.85     73.33        6.20  \n",
       "576   28.22     39.20        2.24  \n",
       "\n",
       "[577 rows x 9 columns]"
      ]
     },
     "execution_count": 8,
     "metadata": {},
     "output_type": "execute_result"
    }
   ],
   "source": [
    "#print the dataframe\n",
    "weather_df"
   ]
  },
  {
   "cell_type": "code",
   "execution_count": 9,
   "metadata": {},
   "outputs": [],
   "source": [
    "# Export data into a csv \n",
    "weather_df.to_csv(\"weathercities.csv\", index=False, header=True)"
   ]
  },
  {
   "cell_type": "markdown",
   "metadata": {},
   "source": [
    "### Plotting the Data\n",
    "* Use proper labeling of the plots using plot titles (including date of analysis) and axes labels.\n",
    "* Save the plotted figures as .pngs."
   ]
  },
  {
   "cell_type": "markdown",
   "metadata": {},
   "source": [
    "#### Latitude vs. Temperature Plot"
   ]
  },
  {
   "cell_type": "code",
   "execution_count": 10,
   "metadata": {
    "scrolled": true
   },
   "outputs": [
    {
     "data": {
      "image/png": "[encoded data removed]",
      "text/plain": [
       "<Figure size 432x288 with 1 Axes>"
      ]
     },
     "metadata": {
      "needs_background": "light"
     },
     "output_type": "display_data"
    }
   ],
   "source": [
    "plt.scatter(x=weather_df['Lat'], y=weather_df['Max Temp'], alpha=1, edgecolors =\"black\")\n",
    "plt.grid()\n",
    "plt.title(\"City Latitude Vs. Max Temperature 2/1/20\")\n",
    "plt.xlabel(\"Latitude\")\n",
    "plt.ylabel(\"Max Temperature(F)\")\n",
    "plt.savefig(\"Lat v. Temp.png\")\n",
    "plt.show()"
   ]
  },
  {
   "cell_type": "markdown",
   "metadata": {},
   "source": [
    "#### Latitude vs. Cloudiness Plot"
   ]
  },
  {
   "cell_type": "code",
   "execution_count": 11,
   "metadata": {},
   "outputs": [
    {
     "data": {
      "image/png": "[encoded data removed]",
      "text/plain": [
       "<Figure size 432x288 with 1 Axes>"
      ]
     },
     "metadata": {
      "needs_background": "light"
     },
     "output_type": "display_data"
    }
   ],
   "source": [
    "plt.scatter(x=weather_df['Lat'], y=weather_df['Cloudiness'], alpha=1, edgecolors =\"black\")\n",
    "plt.grid()\n",
    "plt.title(\"City Latitude Vs. Cloudiness 2/1/20\")\n",
    "plt.xlabel(\"Latitude\")\n",
    "plt.ylabel(\"Cloudiness (%)\")\n",
    "plt.savefig(\"Lat v. Cloudiness.png\")\n",
    "plt.show()"
   ]
  },
  {
   "cell_type": "markdown",
   "metadata": {},
   "source": [
    "#### Latitude vs. Humidity Plot"
   ]
  },
  {
   "cell_type": "code",
   "execution_count": 12,
   "metadata": {},
   "outputs": [
    {
     "data": {
      "image/png": "[encoded data removed]",
      "text/plain": [
       "<Figure size 432x288 with 1 Axes>"
      ]
     },
     "metadata": {
      "needs_background": "light"
     },
     "output_type": "display_data"
    }
   ],
   "source": [
    "plt.scatter(x=weather_df['Lat'], y=weather_df['Humidity'], alpha=1, edgecolors =\"black\")\n",
    "plt.grid()\n",
    "plt.title(\"City Latitude Vs. Humidity 2/1/20\")\n",
    "plt.xlabel(\"Latitude\")\n",
    "plt.ylabel(\"Humidity (%)\")\n",
    "plt.savefig(\"Lat v. Humidity.png\")\n",
    "plt.show()"
   ]
  },
  {
   "cell_type": "markdown",
   "metadata": {},
   "source": [
    "#### Latitude vs. Wind Speed Plot"
   ]
  },
  {
   "cell_type": "code",
   "execution_count": 13,
   "metadata": {},
   "outputs": [
    {
     "data": {
      "image/png": "[encoded data removed]",
      "text/plain": [
       "<Figure size 432x288 with 1 Axes>"
      ]
     },
     "metadata": {
      "needs_background": "light"
     },
     "output_type": "display_data"
    }
   ],
   "source": [
    "plt.scatter(x=weather_df['Lat'], y=weather_df['Wind Speed'], alpha=1, edgecolors =\"black\")\n",
    "plt.grid()\n",
    "plt.title(\"City Latitude Vs. Wind Speed 2/1/20\")\n",
    "plt.xlabel(\"Latitude\")\n",
    "plt.ylabel(\"Wind Speed (MPH)\")\n",
    "plt.savefig(\"Lat v. Wind Speed.png\")\n",
    "plt.show()"
   ]
  },
  {
   "cell_type": "markdown",
   "metadata": {},
   "source": [
    "## Linear Regression"
   ]
  },
  {
   "cell_type": "code",
   "execution_count": 14,
   "metadata": {},
   "outputs": [],
   "source": [
    "# OPTIONAL: Create a function to create Linear Regression plots\n"
   ]
  },
  {
   "cell_type": "code",
   "execution_count": 15,
   "metadata": {},
   "outputs": [
    {
     "data": {
      "text/html": [
       "<div>\n",
       "<style scoped>\n",
       "    .dataframe tbody tr th:only-of-type {\n",
       "        vertical-align: middle;\n",
       "    }\n",
       "\n",
       "    .dataframe tbody tr th {\n",
       "        vertical-align: top;\n",
       "    }\n",
       "\n",
       "    .dataframe thead th {\n",
       "        text-align: right;\n",
       "    }\n",
       "</style>\n",
       "<table border=\"1\" class=\"dataframe\">\n",
       "  <thead>\n",
       "    <tr style=\"text-align: right;\">\n",
       "      <th></th>\n",
       "      <th>City</th>\n",
       "      <th>Cloudiness</th>\n",
       "      <th>Country</th>\n",
       "      <th>Date</th>\n",
       "      <th>Humidity</th>\n",
       "      <th>Lat</th>\n",
       "      <th>Lng</th>\n",
       "      <th>Max Temp</th>\n",
       "      <th>Wind Speed</th>\n",
       "    </tr>\n",
       "  </thead>\n",
       "  <tbody>\n",
       "    <tr>\n",
       "      <td>0</td>\n",
       "      <td>mataura</td>\n",
       "      <td>100</td>\n",
       "      <td>NZ</td>\n",
       "      <td>1580621085</td>\n",
       "      <td>94</td>\n",
       "      <td>-46.19</td>\n",
       "      <td>168.86</td>\n",
       "      <td>57.00</td>\n",
       "      <td>1.99</td>\n",
       "    </tr>\n",
       "    <tr>\n",
       "      <td>2</td>\n",
       "      <td>sao joao da barra</td>\n",
       "      <td>94</td>\n",
       "      <td>BR</td>\n",
       "      <td>1580621085</td>\n",
       "      <td>91</td>\n",
       "      <td>-21.64</td>\n",
       "      <td>-41.05</td>\n",
       "      <td>76.93</td>\n",
       "      <td>5.99</td>\n",
       "    </tr>\n",
       "    <tr>\n",
       "      <td>3</td>\n",
       "      <td>punta arenas</td>\n",
       "      <td>75</td>\n",
       "      <td>CL</td>\n",
       "      <td>1580621085</td>\n",
       "      <td>81</td>\n",
       "      <td>-53.15</td>\n",
       "      <td>-70.92</td>\n",
       "      <td>46.40</td>\n",
       "      <td>19.46</td>\n",
       "    </tr>\n",
       "    <tr>\n",
       "      <td>4</td>\n",
       "      <td>alice springs</td>\n",
       "      <td>90</td>\n",
       "      <td>AU</td>\n",
       "      <td>1580621085</td>\n",
       "      <td>100</td>\n",
       "      <td>-23.70</td>\n",
       "      <td>133.88</td>\n",
       "      <td>66.20</td>\n",
       "      <td>9.17</td>\n",
       "    </tr>\n",
       "    <tr>\n",
       "      <td>8</td>\n",
       "      <td>lebu</td>\n",
       "      <td>15</td>\n",
       "      <td>CL</td>\n",
       "      <td>1580621086</td>\n",
       "      <td>97</td>\n",
       "      <td>-37.62</td>\n",
       "      <td>-73.65</td>\n",
       "      <td>48.61</td>\n",
       "      <td>2.84</td>\n",
       "    </tr>\n",
       "    <tr>\n",
       "      <td>...</td>\n",
       "      <td>...</td>\n",
       "      <td>...</td>\n",
       "      <td>...</td>\n",
       "      <td>...</td>\n",
       "      <td>...</td>\n",
       "      <td>...</td>\n",
       "      <td>...</td>\n",
       "      <td>...</td>\n",
       "      <td>...</td>\n",
       "    </tr>\n",
       "    <tr>\n",
       "      <td>564</td>\n",
       "      <td>vanimo</td>\n",
       "      <td>29</td>\n",
       "      <td>PG</td>\n",
       "      <td>1580621143</td>\n",
       "      <td>78</td>\n",
       "      <td>-2.67</td>\n",
       "      <td>141.30</td>\n",
       "      <td>82.87</td>\n",
       "      <td>20.29</td>\n",
       "    </tr>\n",
       "    <tr>\n",
       "      <td>565</td>\n",
       "      <td>yulara</td>\n",
       "      <td>7</td>\n",
       "      <td>AU</td>\n",
       "      <td>1580621143</td>\n",
       "      <td>27</td>\n",
       "      <td>-25.24</td>\n",
       "      <td>130.99</td>\n",
       "      <td>87.80</td>\n",
       "      <td>10.29</td>\n",
       "    </tr>\n",
       "    <tr>\n",
       "      <td>567</td>\n",
       "      <td>santa maria do suacui</td>\n",
       "      <td>84</td>\n",
       "      <td>BR</td>\n",
       "      <td>1580621142</td>\n",
       "      <td>96</td>\n",
       "      <td>-18.19</td>\n",
       "      <td>-42.41</td>\n",
       "      <td>66.99</td>\n",
       "      <td>1.99</td>\n",
       "    </tr>\n",
       "    <tr>\n",
       "      <td>571</td>\n",
       "      <td>kabwe</td>\n",
       "      <td>40</td>\n",
       "      <td>ZM</td>\n",
       "      <td>1580621144</td>\n",
       "      <td>92</td>\n",
       "      <td>-14.45</td>\n",
       "      <td>28.45</td>\n",
       "      <td>66.88</td>\n",
       "      <td>9.31</td>\n",
       "    </tr>\n",
       "    <tr>\n",
       "      <td>575</td>\n",
       "      <td>shakawe</td>\n",
       "      <td>85</td>\n",
       "      <td>BW</td>\n",
       "      <td>1580621144</td>\n",
       "      <td>69</td>\n",
       "      <td>-18.37</td>\n",
       "      <td>21.85</td>\n",
       "      <td>73.33</td>\n",
       "      <td>6.20</td>\n",
       "    </tr>\n",
       "  </tbody>\n",
       "</table>\n",
       "<p>175 rows × 9 columns</p>\n",
       "</div>"
      ],
      "text/plain": [
       "                      City  Cloudiness Country        Date  Humidity    Lat  \\\n",
       "0                  mataura         100      NZ  1580621085        94 -46.19   \n",
       "2        sao joao da barra          94      BR  1580621085        91 -21.64   \n",
       "3             punta arenas          75      CL  1580621085        81 -53.15   \n",
       "4            alice springs          90      AU  1580621085       100 -23.70   \n",
       "8                     lebu          15      CL  1580621086        97 -37.62   \n",
       "..                     ...         ...     ...         ...       ...    ...   \n",
       "564                 vanimo          29      PG  1580621143        78  -2.67   \n",
       "565                 yulara           7      AU  1580621143        27 -25.24   \n",
       "567  santa maria do suacui          84      BR  1580621142        96 -18.19   \n",
       "571                  kabwe          40      ZM  1580621144        92 -14.45   \n",
       "575                shakawe          85      BW  1580621144        69 -18.37   \n",
       "\n",
       "        Lng  Max Temp  Wind Speed  \n",
       "0    168.86     57.00        1.99  \n",
       "2    -41.05     76.93        5.99  \n",
       "3    -70.92     46.40       19.46  \n",
       "4    133.88     66.20        9.17  \n",
       "8    -73.65     48.61        2.84  \n",
       "..      ...       ...         ...  \n",
       "564  141.30     82.87       20.29  \n",
       "565  130.99     87.80       10.29  \n",
       "567  -42.41     66.99        1.99  \n",
       "571   28.45     66.88        9.31  \n",
       "575   21.85     73.33        6.20  \n",
       "\n",
       "[175 rows x 9 columns]"
      ]
     },
     "execution_count": 15,
     "metadata": {},
     "output_type": "execute_result"
    }
   ],
   "source": [
    "#Create DF for each Hemisphere\n",
    "North_Hemisphere = weather_df.loc[weather_df[\"Lat\"]>0.01]\n",
    "South_Hemisphere = weather_df.loc[weather_df[\"Lat\"]<-0.01]\n",
    "\n",
    "#North_Hemisphere \n",
    "South_Hemisphere \n"
   ]
  },
  {
   "cell_type": "markdown",
   "metadata": {},
   "source": [
    "####  Northern Hemisphere - Max Temp vs. Latitude Linear Regression"
   ]
  },
  {
   "cell_type": "code",
   "execution_count": 16,
   "metadata": {},
   "outputs": [
    {
     "data": {
      "image/png": "[encoded data removed]",
      "text/plain": [
       "<Figure size 432x288 with 1 Axes>"
      ]
     },
     "metadata": {
      "needs_background": "light"
     },
     "output_type": "display_data"
    }
   ],
   "source": [
    "#Create a Scatter Plot for Northern Hemisphere - Max Temp vs. Latitude Linear Regression\n",
    "x = North_Hemisphere ['Lat']\n",
    "y = North_Hemisphere ['Max Temp']\n",
    "(slope, intercept, rvalue, pvalue, stderr) = linregress(x, y)\n",
    "regress_values = x * slope + intercept\n",
    "\n",
    "line_equation = \"y = \" + str(round(slope,2)) + \"x + \" + str(round(intercept,2))\n",
    "\n",
    "plt.scatter(x,y)\n",
    "plt.plot(x,regress_values,\"red\")\n",
    "plt.annotate(line_equation,(5,10),fontsize=15,color=\"red\")\n",
    "\n",
    "plt.ylim(0,100)\n",
    "plt.xlim(0, 80)\n",
    "\n",
    "plt.ylabel(\"Max. Temp\")\n",
    "plt.xlabel(\"Latitude\")\n",
    "# plt.show()\n",
    "\n",
    "plt.savefig(\"Northern Hem Max Temp vs Lat.png\")"
   ]
  },
  {
   "cell_type": "markdown",
   "metadata": {},
   "source": [
    "####  Southern Hemisphere - Max Temp vs. Latitude Linear Regression"
   ]
  },
  {
   "cell_type": "code",
   "execution_count": 19,
   "metadata": {},
   "outputs": [
    {
     "data": {
      "image/png": "[encoded data removed]",
      "text/plain": [
       "<Figure size 432x288 with 1 Axes>"
      ]
     },
     "metadata": {
      "needs_background": "light"
     },
     "output_type": "display_data"
    }
   ],
   "source": [
    "#Create a Scatter Plot for Southern Hemisphere - Max Temp vs. Latitude Linear Regression\n",
    "\n",
    "x = South_Hemisphere['Lat']\n",
    "y = South_Hemisphere['Max Temp']\n",
    "(slope, intercept, rvalue, pvalue, stderr) = linregress(x, y)\n",
    "regress_values = x * slope + intercept\n",
    "\n",
    "line_eq= \"y = \" + str(round(slope,2)) + \"x + \" + str(round(intercept,2))\n",
    "\n",
    "plt.scatter(x,y)\n",
    "plt.plot(x,regress_values,\"red\")\n",
    "plt.annotate(line_equation,(-40,20),fontsize=15,color=\"red\")\n",
    "\n",
    "plt.ylim(0,115)\n",
    "plt.xlim(-60, 20)\n",
    "\n",
    "plt.ylabel(\"Max. Temp\")\n",
    "plt.xlabel(\"Latitude\")\n",
    "# plt.show()\n",
    "\n",
    "plt.savefig(\"Southern Hem Max Temp vs Lat.png\")"
   ]
  },
  {
   "cell_type": "markdown",
   "metadata": {},
   "source": [
    "####  Northern Hemisphere - Humidity (%) vs. Latitude Linear Regression"
   ]
  },
  {
   "cell_type": "code",
   "execution_count": 27,
   "metadata": {},
   "outputs": [
    {
     "data": {
      "image/png": "[encoded data removed]",
      "text/plain": [
       "<Figure size 432x288 with 1 Axes>"
      ]
     },
     "metadata": {
      "needs_background": "light"
     },
     "output_type": "display_data"
    }
   ],
   "source": [
    "#Create a Scatter Plot for Northern Hemisphere - Humidity % vs. Latitude Linear Regression\n",
    "x = North_Hemisphere ['Lat']\n",
    "y = North_Hemisphere ['Humidity']\n",
    "(slope, intercept, rvalue, pvalue, stderr) = linregress(x, y)\n",
    "regress_values = x * slope + intercept\n",
    "\n",
    "line_equation = \"y = \" + str(round(slope,2)) + \"x + \" + str(round(intercept,2))\n",
    "\n",
    "plt.scatter(x,y)\n",
    "plt.plot(x,regress_values,\"red\")\n",
    "plt.annotate(line_equation,(40,10),fontsize=15,color=\"red\")\n",
    "\n",
    "plt.ylim(0,110)\n",
    "plt.xlim(-5, 90)\n",
    "\n",
    "plt.ylabel(\"Max. Temp\")\n",
    "plt.xlabel(\"Humidity\")\n",
    "# plt.show()\n",
    "\n",
    "plt.savefig(\"Northern Hem Lat vs Humidity.png\")"
   ]
  },
  {
   "cell_type": "markdown",
   "metadata": {},
   "source": [
    "####  Southern Hemisphere - Humidity (%) vs. Latitude Linear Regression"
   ]
  },
  {
   "cell_type": "code",
   "execution_count": 28,
   "metadata": {},
   "outputs": [
    {
     "data": {
      "image/png": "[encoded data removed]",
      "text/plain": [
       "<Figure size 432x288 with 1 Axes>"
      ]
     },
     "metadata": {
      "needs_background": "light"
     },
     "output_type": "display_data"
    }
   ],
   "source": [
    "#Create a Scatter Plot for Southern Hemisphere - Max Temp vs. Latitude Linear Regression\n",
    "\n",
    "x = South_Hemisphere['Lat']\n",
    "y = South_Hemisphere['Humidity']\n",
    "(slope, intercept, rvalue, pvalue, stderr) = linregress(x, y)\n",
    "regress_values = x * slope + intercept\n",
    "\n",
    "line_eq= \"y = \" + str(round(slope,2)) + \"x + \" + str(round(intercept,2))\n",
    "\n",
    "plt.scatter(x,y)\n",
    "plt.plot(x,regress_values,\"red\")\n",
    "plt.annotate(line_equation,(-40,10),fontsize=15,color=\"red\")\n",
    "\n",
    "plt.ylim(0,110)\n",
    "plt.xlim(-60, 20)\n",
    "\n",
    "plt.ylabel(\"Humidity\")\n",
    "plt.xlabel(\"Latitude\")\n",
    "# plt.show()\n",
    "\n",
    "plt.savefig(\"Southern Hem Humidity vs Lat.png\")"
   ]
  },
  {
   "cell_type": "markdown",
   "metadata": {},
   "source": [
    "####  Northern Hemisphere - Cloudiness (%) vs. Latitude Linear Regression"
   ]
  },
  {
   "cell_type": "code",
   "execution_count": 38,
   "metadata": {},
   "outputs": [
    {
     "data": {
      "image/png": "[encoded data removed]",
      "text/plain": [
       "<Figure size 432x288 with 1 Axes>"
      ]
     },
     "metadata": {
      "needs_background": "light"
     },
     "output_type": "display_data"
    },
    {
     "data": {
      "text/plain": [
       "<Figure size 432x288 with 0 Axes>"
      ]
     },
     "metadata": {},
     "output_type": "display_data"
    }
   ],
   "source": [
    "#Scatter Plot for the Northern Hemisphere - Cloudiness (%) vs. Latitude Linear Regression\n",
    "x = North_Hemisphere ['Lat']\n",
    "y = North_Hemisphere ['Cloudiness']\n",
    "(slope, intercept, rvalue, pvalue, stderr) = linregress(x, y)\n",
    "regress_values = x * slope + intercept\n",
    "\n",
    "line_equation = \"y = \" + str(round(slope,2)) + \"x + \" + str(round(intercept,2))\n",
    "\n",
    "plt.scatter(x,y)\n",
    "plt.plot(x,regress_values,\"red\")\n",
    "plt.annotate(line_equation,(5,-15),fontsize=15,color=\"red\")\n",
    "\n",
    "plt.ylim(-20,110)\n",
    "plt.xlim(-5, 85)\n",
    "\n",
    "\n",
    "plt.xlabel(\"Lat\")\n",
    "plt.ylabel(\"Cloudiness\")\n",
    "plt.show()\n",
    "\n",
    "plt.savefig(\"Northern Hem Lat vs Cloudiness.png\")"
   ]
  },
  {
   "cell_type": "markdown",
   "metadata": {},
   "source": [
    "####  Southern Hemisphere - Cloudiness (%) vs. Latitude Linear Regression"
   ]
  },
  {
   "cell_type": "code",
   "execution_count": 47,
   "metadata": {},
   "outputs": [
    {
     "data": {
      "image/png": "[encoded data removed]",
      "text/plain": [
       "<Figure size 432x288 with 1 Axes>"
      ]
     },
     "metadata": {
      "needs_background": "light"
     },
     "output_type": "display_data"
    },
    {
     "data": {
      "text/plain": [
       "<Figure size 432x288 with 0 Axes>"
      ]
     },
     "metadata": {},
     "output_type": "display_data"
    }
   ],
   "source": [
    "#Scatter Plot for Southern Hemisphere - Cloudiness (%) vs. Latitude Linear Regression\n",
    "x = South_Hemisphere ['Lat']\n",
    "y = South_Hemisphere ['Cloudiness']\n",
    "(slope, intercept, rvalue, pvalue, stderr) = linregress(x, y)\n",
    "regress_values = x * slope + intercept\n",
    "\n",
    "line_equation = \"y = \" + str(round(slope,2)) + \"x + \" + str(round(intercept,2))\n",
    "\n",
    "plt.scatter(x,y)\n",
    "plt.plot(x,regress_values,\"red\")\n",
    "plt.annotate(line_equation,(-60,-20),fontsize=15,color=\"red\")\n",
    "\n",
    "plt.ylim(-25,110)\n",
    "plt.xlim(-75,15)\n",
    "\n",
    "\n",
    "plt.xlabel(\"Lat\")\n",
    "plt.ylabel(\"Cloudiness\")\n",
    "plt.show()\n",
    "\n",
    "plt.savefig(\"Southern Hem Lat vs Cloudiness.png\")"
   ]
  },
  {
   "cell_type": "markdown",
   "metadata": {},
   "source": [
    "####  Northern Hemisphere - Wind Speed (mph) vs. Latitude Linear Regression"
   ]
  },
  {
   "cell_type": "code",
   "execution_count": 52,
   "metadata": {},
   "outputs": [
    {
     "data": {
      "image/png": "[encoded data removed]",
      "text/plain": [
       "<Figure size 432x288 with 1 Axes>"
      ]
     },
     "metadata": {
      "needs_background": "light"
     },
     "output_type": "display_data"
    },
    {
     "data": {
      "text/plain": [
       "<Figure size 432x288 with 0 Axes>"
      ]
     },
     "metadata": {},
     "output_type": "display_data"
    }
   ],
   "source": [
    "#Scatter plot for the Northern Hemisphere - Wind Speed (mph) vs. Latitude Linear Regression\n",
    "x = North_Hemisphere ['Lat']\n",
    "y = North_Hemisphere ['Wind Speed']\n",
    "(slope, intercept, rvalue, pvalue, stderr) = linregress(x, y)\n",
    "regress_values = x * slope + intercept\n",
    "\n",
    "line_equation = \"y = \" + str(round(slope,2)) + \"x + \" + str(round(intercept,2))\n",
    "\n",
    "plt.scatter(x,y)\n",
    "plt.plot(x,regress_values,\"red\")\n",
    "plt.annotate(line_equation,(5,-2),fontsize=15,color=\"red\")\n",
    "\n",
    "plt.ylim(-5,27)\n",
    "plt.xlim(-5, 90)\n",
    "\n",
    "plt.xlabel(\"Latitude\")\n",
    "plt.ylabel(\"Wind Speed\")\n",
    "plt.show()\n",
    "\n",
    "plt.savefig(\"Northern Hem Lat vs Wind Speed.png\")"
   ]
  },
  {
   "cell_type": "markdown",
   "metadata": {},
   "source": [
    "####  Southern Hemisphere - Wind Speed (mph) vs. Latitude Linear Regression"
   ]
  },
  {
   "cell_type": "code",
   "execution_count": 56,
   "metadata": {},
   "outputs": [
    {
     "data": {
      "image/png": "[encoded data removed]",
      "text/plain": [
       "<Figure size 432x288 with 1 Axes>"
      ]
     },
     "metadata": {
      "needs_background": "light"
     },
     "output_type": "display_data"
    },
    {
     "data": {
      "text/plain": [
       "<Figure size 432x288 with 0 Axes>"
      ]
     },
     "metadata": {},
     "output_type": "display_data"
    }
   ],
   "source": [
    "#Scatter plot for the Southern Hemisphere - Wind Speed (mph) vs. Latitude Linear Regression\n",
    "x = South_Hemisphere ['Lat']\n",
    "y = South_Hemisphere ['Wind Speed']\n",
    "(slope, intercept, rvalue, pvalue, stderr) = linregress(x, y)\n",
    "regress_values = x * slope + intercept\n",
    "\n",
    "line_equation = \"y = \" + str(round(slope,2)) + \"x + \" + str(round(intercept,2))\n",
    "\n",
    "plt.scatter(x,y)\n",
    "plt.plot(x,regress_values,\"red\")\n",
    "plt.annotate(line_equation,(-40,-5),fontsize=15,color=\"red\")\n",
    "\n",
    "plt.ylim(-10,30)\n",
    "plt.xlim(-60, 8)\n",
    "\n",
    "plt.xlabel(\"Latitude\")\n",
    "plt.ylabel(\"Wind Speed\")\n",
    "plt.show()\n",
    "\n",
    "plt.savefig(\"Southern Hem Lat vs Wind Speed.png\")"
   ]
  },
  {
   "cell_type": "code",
   "execution_count": null,
   "metadata": {},
   "outputs": [],
   "source": []
  }
 ],
 "metadata": {
  "anaconda-cloud": {},
  "kernel_info": {
   "name": "python3"
  },
  "kernelspec": {
   "display_name": "Python 3",
   "language": "python",
   "name": "python3"
  },
  "language_info": {
   "codemirror_mode": {
    "name": "ipython",
    "version": 3
   },
   "file_extension": ".py",
   "mimetype": "text/x-python",
   "name": "python",
   "nbconvert_exporter": "python",
   "pygments_lexer": "ipython3",
   "version": "3.7.4"
  },
  "latex_envs": {
   "LaTeX_envs_menu_present": true,
   "autoclose": false,
   "autocomplete": true,
   "bibliofile": "biblio.bib",
   "cite_by": "apalike",
   "current_citInitial": 1,
   "eqLabelWithNumbers": true,
   "eqNumInitial": 1,
   "hotkeys": {
    "equation": "Ctrl-E",
    "itemize": "Ctrl-I"
   },
   "labels_anchors": false,
   "latex_user_defs": false,
   "report_style_numbering": false,
   "user_envs_cfg": false
  },
  "nteract": {
   "version": "0.12.3"
  }
 },
 "nbformat": 4,
 "nbformat_minor": 2
}
